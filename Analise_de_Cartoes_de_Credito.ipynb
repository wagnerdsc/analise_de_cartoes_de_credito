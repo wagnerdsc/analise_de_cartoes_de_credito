{
  "nbformat": 4,
  "nbformat_minor": 0,
  "metadata": {
    "colab": {
      "name": "Analise de Cartoes de Credito.ipynb",
      "provenance": [],
      "collapsed_sections": [],
      "authorship_tag": "ABX9TyP1f0saNsRHtwirpZ6HwVrJ",
      "include_colab_link": true
    },
    "kernelspec": {
      "name": "python3",
      "display_name": "Python 3"
    },
    "language_info": {
      "name": "python"
    }
  },
  "cells": [
    {
      "cell_type": "markdown",
      "metadata": {
        "id": "view-in-github",
        "colab_type": "text"
      },
      "source": [
        "<a href=\"https://colab.research.google.com/github/wagnerdsc/analise_de_cartoes_de_credito/blob/main/Analise_de_Cartoes_de_Credito.ipynb\" target=\"_parent\"><img src=\"https://colab.research.google.com/assets/colab-badge.svg\" alt=\"Open In Colab\"/></a>"
      ]
    },
    {
      "cell_type": "code",
      "execution_count": null,
      "metadata": {
        "colab": {
          "base_uri": "https://localhost:8080/",
          "height": 270
        },
        "id": "rR_asK6h28Er",
        "outputId": "350571e2-7e95-4abe-da2a-fdf6993c2de1"
      },
      "outputs": [
        {
          "output_type": "execute_result",
          "data": {
            "text/html": [
              "\n",
              "  <div id=\"df-1eed51d5-35b9-473d-b0d1-ac10188f8b15\">\n",
              "    <div class=\"colab-df-container\">\n",
              "      <div>\n",
              "<style scoped>\n",
              "    .dataframe tbody tr th:only-of-type {\n",
              "        vertical-align: middle;\n",
              "    }\n",
              "\n",
              "    .dataframe tbody tr th {\n",
              "        vertical-align: top;\n",
              "    }\n",
              "\n",
              "    .dataframe thead th {\n",
              "        text-align: right;\n",
              "    }\n",
              "</style>\n",
              "<table border=\"1\" class=\"dataframe\">\n",
              "  <thead>\n",
              "    <tr style=\"text-align: right;\">\n",
              "      <th></th>\n",
              "      <th>CUST_ID</th>\n",
              "      <th>BALANCE</th>\n",
              "      <th>BALANCE_FREQUENCY</th>\n",
              "      <th>PURCHASES</th>\n",
              "      <th>ONEOFF_PURCHASES</th>\n",
              "      <th>INSTALLMENTS_PURCHASES</th>\n",
              "      <th>CASH_ADVANCE</th>\n",
              "      <th>PURCHASES_FREQUENCY</th>\n",
              "      <th>ONEOFF_PURCHASES_FREQUENCY</th>\n",
              "      <th>PURCHASES_INSTALLMENTS_FREQUENCY</th>\n",
              "      <th>CASH_ADVANCE_FREQUENCY</th>\n",
              "      <th>CASH_ADVANCE_TRX</th>\n",
              "      <th>PURCHASES_TRX</th>\n",
              "      <th>CREDIT_LIMIT</th>\n",
              "      <th>PAYMENTS</th>\n",
              "      <th>MINIMUM_PAYMENTS</th>\n",
              "      <th>PRC_FULL_PAYMENT</th>\n",
              "      <th>TENURE</th>\n",
              "    </tr>\n",
              "  </thead>\n",
              "  <tbody>\n",
              "    <tr>\n",
              "      <th>0</th>\n",
              "      <td>C10001</td>\n",
              "      <td>40.900749</td>\n",
              "      <td>0.818182</td>\n",
              "      <td>95.40</td>\n",
              "      <td>0.00</td>\n",
              "      <td>95.4</td>\n",
              "      <td>0.000000</td>\n",
              "      <td>0.166667</td>\n",
              "      <td>0.000000</td>\n",
              "      <td>0.083333</td>\n",
              "      <td>0.000000</td>\n",
              "      <td>0</td>\n",
              "      <td>2</td>\n",
              "      <td>1000.0</td>\n",
              "      <td>201.802084</td>\n",
              "      <td>139.509787</td>\n",
              "      <td>0.000000</td>\n",
              "      <td>12</td>\n",
              "    </tr>\n",
              "    <tr>\n",
              "      <th>1</th>\n",
              "      <td>C10002</td>\n",
              "      <td>3202.467416</td>\n",
              "      <td>0.909091</td>\n",
              "      <td>0.00</td>\n",
              "      <td>0.00</td>\n",
              "      <td>0.0</td>\n",
              "      <td>6442.945483</td>\n",
              "      <td>0.000000</td>\n",
              "      <td>0.000000</td>\n",
              "      <td>0.000000</td>\n",
              "      <td>0.250000</td>\n",
              "      <td>4</td>\n",
              "      <td>0</td>\n",
              "      <td>7000.0</td>\n",
              "      <td>4103.032597</td>\n",
              "      <td>1072.340217</td>\n",
              "      <td>0.222222</td>\n",
              "      <td>12</td>\n",
              "    </tr>\n",
              "    <tr>\n",
              "      <th>2</th>\n",
              "      <td>C10003</td>\n",
              "      <td>2495.148862</td>\n",
              "      <td>1.000000</td>\n",
              "      <td>773.17</td>\n",
              "      <td>773.17</td>\n",
              "      <td>0.0</td>\n",
              "      <td>0.000000</td>\n",
              "      <td>1.000000</td>\n",
              "      <td>1.000000</td>\n",
              "      <td>0.000000</td>\n",
              "      <td>0.000000</td>\n",
              "      <td>0</td>\n",
              "      <td>12</td>\n",
              "      <td>7500.0</td>\n",
              "      <td>622.066742</td>\n",
              "      <td>627.284787</td>\n",
              "      <td>0.000000</td>\n",
              "      <td>12</td>\n",
              "    </tr>\n",
              "    <tr>\n",
              "      <th>3</th>\n",
              "      <td>C10004</td>\n",
              "      <td>1666.670542</td>\n",
              "      <td>0.636364</td>\n",
              "      <td>1499.00</td>\n",
              "      <td>1499.00</td>\n",
              "      <td>0.0</td>\n",
              "      <td>205.788017</td>\n",
              "      <td>0.083333</td>\n",
              "      <td>0.083333</td>\n",
              "      <td>0.000000</td>\n",
              "      <td>0.083333</td>\n",
              "      <td>1</td>\n",
              "      <td>1</td>\n",
              "      <td>7500.0</td>\n",
              "      <td>0.000000</td>\n",
              "      <td>NaN</td>\n",
              "      <td>0.000000</td>\n",
              "      <td>12</td>\n",
              "    </tr>\n",
              "    <tr>\n",
              "      <th>4</th>\n",
              "      <td>C10005</td>\n",
              "      <td>817.714335</td>\n",
              "      <td>1.000000</td>\n",
              "      <td>16.00</td>\n",
              "      <td>16.00</td>\n",
              "      <td>0.0</td>\n",
              "      <td>0.000000</td>\n",
              "      <td>0.083333</td>\n",
              "      <td>0.083333</td>\n",
              "      <td>0.000000</td>\n",
              "      <td>0.000000</td>\n",
              "      <td>0</td>\n",
              "      <td>1</td>\n",
              "      <td>1200.0</td>\n",
              "      <td>678.334763</td>\n",
              "      <td>244.791237</td>\n",
              "      <td>0.000000</td>\n",
              "      <td>12</td>\n",
              "    </tr>\n",
              "  </tbody>\n",
              "</table>\n",
              "</div>\n",
              "      <button class=\"colab-df-convert\" onclick=\"convertToInteractive('df-1eed51d5-35b9-473d-b0d1-ac10188f8b15')\"\n",
              "              title=\"Convert this dataframe to an interactive table.\"\n",
              "              style=\"display:none;\">\n",
              "        \n",
              "  <svg xmlns=\"http://www.w3.org/2000/svg\" height=\"24px\"viewBox=\"0 0 24 24\"\n",
              "       width=\"24px\">\n",
              "    <path d=\"M0 0h24v24H0V0z\" fill=\"none\"/>\n",
              "    <path d=\"M18.56 5.44l.94 2.06.94-2.06 2.06-.94-2.06-.94-.94-2.06-.94 2.06-2.06.94zm-11 1L8.5 8.5l.94-2.06 2.06-.94-2.06-.94L8.5 2.5l-.94 2.06-2.06.94zm10 10l.94 2.06.94-2.06 2.06-.94-2.06-.94-.94-2.06-.94 2.06-2.06.94z\"/><path d=\"M17.41 7.96l-1.37-1.37c-.4-.4-.92-.59-1.43-.59-.52 0-1.04.2-1.43.59L10.3 9.45l-7.72 7.72c-.78.78-.78 2.05 0 2.83L4 21.41c.39.39.9.59 1.41.59.51 0 1.02-.2 1.41-.59l7.78-7.78 2.81-2.81c.8-.78.8-2.07 0-2.86zM5.41 20L4 18.59l7.72-7.72 1.47 1.35L5.41 20z\"/>\n",
              "  </svg>\n",
              "      </button>\n",
              "      \n",
              "  <style>\n",
              "    .colab-df-container {\n",
              "      display:flex;\n",
              "      flex-wrap:wrap;\n",
              "      gap: 12px;\n",
              "    }\n",
              "\n",
              "    .colab-df-convert {\n",
              "      background-color: #E8F0FE;\n",
              "      border: none;\n",
              "      border-radius: 50%;\n",
              "      cursor: pointer;\n",
              "      display: none;\n",
              "      fill: #1967D2;\n",
              "      height: 32px;\n",
              "      padding: 0 0 0 0;\n",
              "      width: 32px;\n",
              "    }\n",
              "\n",
              "    .colab-df-convert:hover {\n",
              "      background-color: #E2EBFA;\n",
              "      box-shadow: 0px 1px 2px rgba(60, 64, 67, 0.3), 0px 1px 3px 1px rgba(60, 64, 67, 0.15);\n",
              "      fill: #174EA6;\n",
              "    }\n",
              "\n",
              "    [theme=dark] .colab-df-convert {\n",
              "      background-color: #3B4455;\n",
              "      fill: #D2E3FC;\n",
              "    }\n",
              "\n",
              "    [theme=dark] .colab-df-convert:hover {\n",
              "      background-color: #434B5C;\n",
              "      box-shadow: 0px 1px 3px 1px rgba(0, 0, 0, 0.15);\n",
              "      filter: drop-shadow(0px 1px 2px rgba(0, 0, 0, 0.3));\n",
              "      fill: #FFFFFF;\n",
              "    }\n",
              "  </style>\n",
              "\n",
              "      <script>\n",
              "        const buttonEl =\n",
              "          document.querySelector('#df-1eed51d5-35b9-473d-b0d1-ac10188f8b15 button.colab-df-convert');\n",
              "        buttonEl.style.display =\n",
              "          google.colab.kernel.accessAllowed ? 'block' : 'none';\n",
              "\n",
              "        async function convertToInteractive(key) {\n",
              "          const element = document.querySelector('#df-1eed51d5-35b9-473d-b0d1-ac10188f8b15');\n",
              "          const dataTable =\n",
              "            await google.colab.kernel.invokeFunction('convertToInteractive',\n",
              "                                                     [key], {});\n",
              "          if (!dataTable) return;\n",
              "\n",
              "          const docLinkHtml = 'Like what you see? Visit the ' +\n",
              "            '<a target=\"_blank\" href=https://colab.research.google.com/notebooks/data_table.ipynb>data table notebook</a>'\n",
              "            + ' to learn more about interactive tables.';\n",
              "          element.innerHTML = '';\n",
              "          dataTable['output_type'] = 'display_data';\n",
              "          await google.colab.output.renderOutput(dataTable, element);\n",
              "          const docLink = document.createElement('div');\n",
              "          docLink.innerHTML = docLinkHtml;\n",
              "          element.appendChild(docLink);\n",
              "        }\n",
              "      </script>\n",
              "    </div>\n",
              "  </div>\n",
              "  "
            ],
            "text/plain": [
              "  CUST_ID      BALANCE  ...  PRC_FULL_PAYMENT  TENURE\n",
              "0  C10001    40.900749  ...          0.000000      12\n",
              "1  C10002  3202.467416  ...          0.222222      12\n",
              "2  C10003  2495.148862  ...          0.000000      12\n",
              "3  C10004  1666.670542  ...          0.000000      12\n",
              "4  C10005   817.714335  ...          0.000000      12\n",
              "\n",
              "[5 rows x 18 columns]"
            ]
          },
          "metadata": {},
          "execution_count": 1
        }
      ],
      "source": [
        "# Importando as principais bibliotecas e o dataset\n",
        "import pandas as pd \n",
        "uri = 'https://raw.githubusercontent.com/alura-cursos/alura-clustering-validation/base-de-dados/CC%20GENERAL.csv'\n",
        "dataframe = pd.read_csv(uri)\n",
        "dataframe.head()"
      ]
    },
    {
      "cell_type": "code",
      "source": [
        "#Removendo colunas\n",
        "dataframe = dataframe.drop(columns=[\"CUST_ID\", \"TENURE\"])\n",
        "\n",
        "#Outra possibilidade\n",
        "#dataframe.drop(columns=[\"CUST_ID\", \"TENURE\"], inplace=True)"
      ],
      "metadata": {
        "id": "HYH3ugm75Bb_"
      },
      "execution_count": null,
      "outputs": []
    },
    {
      "cell_type": "code",
      "source": [
        "dataframe.head()"
      ],
      "metadata": {
        "colab": {
          "base_uri": "https://localhost:8080/",
          "height": 270
        },
        "id": "Hi3KW9Z27H60",
        "outputId": "82dd0bd0-49b4-41e4-dff3-d80af14785cf"
      },
      "execution_count": null,
      "outputs": [
        {
          "output_type": "execute_result",
          "data": {
            "text/html": [
              "\n",
              "  <div id=\"df-ed2a1fd6-d031-4e46-a774-c48a1047ed8b\">\n",
              "    <div class=\"colab-df-container\">\n",
              "      <div>\n",
              "<style scoped>\n",
              "    .dataframe tbody tr th:only-of-type {\n",
              "        vertical-align: middle;\n",
              "    }\n",
              "\n",
              "    .dataframe tbody tr th {\n",
              "        vertical-align: top;\n",
              "    }\n",
              "\n",
              "    .dataframe thead th {\n",
              "        text-align: right;\n",
              "    }\n",
              "</style>\n",
              "<table border=\"1\" class=\"dataframe\">\n",
              "  <thead>\n",
              "    <tr style=\"text-align: right;\">\n",
              "      <th></th>\n",
              "      <th>BALANCE</th>\n",
              "      <th>BALANCE_FREQUENCY</th>\n",
              "      <th>PURCHASES</th>\n",
              "      <th>ONEOFF_PURCHASES</th>\n",
              "      <th>INSTALLMENTS_PURCHASES</th>\n",
              "      <th>CASH_ADVANCE</th>\n",
              "      <th>PURCHASES_FREQUENCY</th>\n",
              "      <th>ONEOFF_PURCHASES_FREQUENCY</th>\n",
              "      <th>PURCHASES_INSTALLMENTS_FREQUENCY</th>\n",
              "      <th>CASH_ADVANCE_FREQUENCY</th>\n",
              "      <th>CASH_ADVANCE_TRX</th>\n",
              "      <th>PURCHASES_TRX</th>\n",
              "      <th>CREDIT_LIMIT</th>\n",
              "      <th>PAYMENTS</th>\n",
              "      <th>MINIMUM_PAYMENTS</th>\n",
              "      <th>PRC_FULL_PAYMENT</th>\n",
              "    </tr>\n",
              "  </thead>\n",
              "  <tbody>\n",
              "    <tr>\n",
              "      <th>0</th>\n",
              "      <td>40.900749</td>\n",
              "      <td>0.818182</td>\n",
              "      <td>95.40</td>\n",
              "      <td>0.00</td>\n",
              "      <td>95.4</td>\n",
              "      <td>0.000000</td>\n",
              "      <td>0.166667</td>\n",
              "      <td>0.000000</td>\n",
              "      <td>0.083333</td>\n",
              "      <td>0.000000</td>\n",
              "      <td>0</td>\n",
              "      <td>2</td>\n",
              "      <td>1000.0</td>\n",
              "      <td>201.802084</td>\n",
              "      <td>139.509787</td>\n",
              "      <td>0.000000</td>\n",
              "    </tr>\n",
              "    <tr>\n",
              "      <th>1</th>\n",
              "      <td>3202.467416</td>\n",
              "      <td>0.909091</td>\n",
              "      <td>0.00</td>\n",
              "      <td>0.00</td>\n",
              "      <td>0.0</td>\n",
              "      <td>6442.945483</td>\n",
              "      <td>0.000000</td>\n",
              "      <td>0.000000</td>\n",
              "      <td>0.000000</td>\n",
              "      <td>0.250000</td>\n",
              "      <td>4</td>\n",
              "      <td>0</td>\n",
              "      <td>7000.0</td>\n",
              "      <td>4103.032597</td>\n",
              "      <td>1072.340217</td>\n",
              "      <td>0.222222</td>\n",
              "    </tr>\n",
              "    <tr>\n",
              "      <th>2</th>\n",
              "      <td>2495.148862</td>\n",
              "      <td>1.000000</td>\n",
              "      <td>773.17</td>\n",
              "      <td>773.17</td>\n",
              "      <td>0.0</td>\n",
              "      <td>0.000000</td>\n",
              "      <td>1.000000</td>\n",
              "      <td>1.000000</td>\n",
              "      <td>0.000000</td>\n",
              "      <td>0.000000</td>\n",
              "      <td>0</td>\n",
              "      <td>12</td>\n",
              "      <td>7500.0</td>\n",
              "      <td>622.066742</td>\n",
              "      <td>627.284787</td>\n",
              "      <td>0.000000</td>\n",
              "    </tr>\n",
              "    <tr>\n",
              "      <th>3</th>\n",
              "      <td>1666.670542</td>\n",
              "      <td>0.636364</td>\n",
              "      <td>1499.00</td>\n",
              "      <td>1499.00</td>\n",
              "      <td>0.0</td>\n",
              "      <td>205.788017</td>\n",
              "      <td>0.083333</td>\n",
              "      <td>0.083333</td>\n",
              "      <td>0.000000</td>\n",
              "      <td>0.083333</td>\n",
              "      <td>1</td>\n",
              "      <td>1</td>\n",
              "      <td>7500.0</td>\n",
              "      <td>0.000000</td>\n",
              "      <td>NaN</td>\n",
              "      <td>0.000000</td>\n",
              "    </tr>\n",
              "    <tr>\n",
              "      <th>4</th>\n",
              "      <td>817.714335</td>\n",
              "      <td>1.000000</td>\n",
              "      <td>16.00</td>\n",
              "      <td>16.00</td>\n",
              "      <td>0.0</td>\n",
              "      <td>0.000000</td>\n",
              "      <td>0.083333</td>\n",
              "      <td>0.083333</td>\n",
              "      <td>0.000000</td>\n",
              "      <td>0.000000</td>\n",
              "      <td>0</td>\n",
              "      <td>1</td>\n",
              "      <td>1200.0</td>\n",
              "      <td>678.334763</td>\n",
              "      <td>244.791237</td>\n",
              "      <td>0.000000</td>\n",
              "    </tr>\n",
              "  </tbody>\n",
              "</table>\n",
              "</div>\n",
              "      <button class=\"colab-df-convert\" onclick=\"convertToInteractive('df-ed2a1fd6-d031-4e46-a774-c48a1047ed8b')\"\n",
              "              title=\"Convert this dataframe to an interactive table.\"\n",
              "              style=\"display:none;\">\n",
              "        \n",
              "  <svg xmlns=\"http://www.w3.org/2000/svg\" height=\"24px\"viewBox=\"0 0 24 24\"\n",
              "       width=\"24px\">\n",
              "    <path d=\"M0 0h24v24H0V0z\" fill=\"none\"/>\n",
              "    <path d=\"M18.56 5.44l.94 2.06.94-2.06 2.06-.94-2.06-.94-.94-2.06-.94 2.06-2.06.94zm-11 1L8.5 8.5l.94-2.06 2.06-.94-2.06-.94L8.5 2.5l-.94 2.06-2.06.94zm10 10l.94 2.06.94-2.06 2.06-.94-2.06-.94-.94-2.06-.94 2.06-2.06.94z\"/><path d=\"M17.41 7.96l-1.37-1.37c-.4-.4-.92-.59-1.43-.59-.52 0-1.04.2-1.43.59L10.3 9.45l-7.72 7.72c-.78.78-.78 2.05 0 2.83L4 21.41c.39.39.9.59 1.41.59.51 0 1.02-.2 1.41-.59l7.78-7.78 2.81-2.81c.8-.78.8-2.07 0-2.86zM5.41 20L4 18.59l7.72-7.72 1.47 1.35L5.41 20z\"/>\n",
              "  </svg>\n",
              "      </button>\n",
              "      \n",
              "  <style>\n",
              "    .colab-df-container {\n",
              "      display:flex;\n",
              "      flex-wrap:wrap;\n",
              "      gap: 12px;\n",
              "    }\n",
              "\n",
              "    .colab-df-convert {\n",
              "      background-color: #E8F0FE;\n",
              "      border: none;\n",
              "      border-radius: 50%;\n",
              "      cursor: pointer;\n",
              "      display: none;\n",
              "      fill: #1967D2;\n",
              "      height: 32px;\n",
              "      padding: 0 0 0 0;\n",
              "      width: 32px;\n",
              "    }\n",
              "\n",
              "    .colab-df-convert:hover {\n",
              "      background-color: #E2EBFA;\n",
              "      box-shadow: 0px 1px 2px rgba(60, 64, 67, 0.3), 0px 1px 3px 1px rgba(60, 64, 67, 0.15);\n",
              "      fill: #174EA6;\n",
              "    }\n",
              "\n",
              "    [theme=dark] .colab-df-convert {\n",
              "      background-color: #3B4455;\n",
              "      fill: #D2E3FC;\n",
              "    }\n",
              "\n",
              "    [theme=dark] .colab-df-convert:hover {\n",
              "      background-color: #434B5C;\n",
              "      box-shadow: 0px 1px 3px 1px rgba(0, 0, 0, 0.15);\n",
              "      filter: drop-shadow(0px 1px 2px rgba(0, 0, 0, 0.3));\n",
              "      fill: #FFFFFF;\n",
              "    }\n",
              "  </style>\n",
              "\n",
              "      <script>\n",
              "        const buttonEl =\n",
              "          document.querySelector('#df-ed2a1fd6-d031-4e46-a774-c48a1047ed8b button.colab-df-convert');\n",
              "        buttonEl.style.display =\n",
              "          google.colab.kernel.accessAllowed ? 'block' : 'none';\n",
              "\n",
              "        async function convertToInteractive(key) {\n",
              "          const element = document.querySelector('#df-ed2a1fd6-d031-4e46-a774-c48a1047ed8b');\n",
              "          const dataTable =\n",
              "            await google.colab.kernel.invokeFunction('convertToInteractive',\n",
              "                                                     [key], {});\n",
              "          if (!dataTable) return;\n",
              "\n",
              "          const docLinkHtml = 'Like what you see? Visit the ' +\n",
              "            '<a target=\"_blank\" href=https://colab.research.google.com/notebooks/data_table.ipynb>data table notebook</a>'\n",
              "            + ' to learn more about interactive tables.';\n",
              "          element.innerHTML = '';\n",
              "          dataTable['output_type'] = 'display_data';\n",
              "          await google.colab.output.renderOutput(dataTable, element);\n",
              "          const docLink = document.createElement('div');\n",
              "          docLink.innerHTML = docLinkHtml;\n",
              "          element.appendChild(docLink);\n",
              "        }\n",
              "      </script>\n",
              "    </div>\n",
              "  </div>\n",
              "  "
            ],
            "text/plain": [
              "       BALANCE  BALANCE_FREQUENCY  ...  MINIMUM_PAYMENTS  PRC_FULL_PAYMENT\n",
              "0    40.900749           0.818182  ...        139.509787          0.000000\n",
              "1  3202.467416           0.909091  ...       1072.340217          0.222222\n",
              "2  2495.148862           1.000000  ...        627.284787          0.000000\n",
              "3  1666.670542           0.636364  ...               NaN          0.000000\n",
              "4   817.714335           1.000000  ...        244.791237          0.000000\n",
              "\n",
              "[5 rows x 16 columns]"
            ]
          },
          "metadata": {},
          "execution_count": 3
        }
      ]
    },
    {
      "cell_type": "code",
      "source": [
        "# Removendo dados nulos\n",
        "missing = dataframe.isna().sum()\n",
        "print(missing)"
      ],
      "metadata": {
        "colab": {
          "base_uri": "https://localhost:8080/"
        },
        "id": "j6BRoobR7Juz",
        "outputId": "a57f3404-01c4-4d30-e9a8-63c9a172b117"
      },
      "execution_count": null,
      "outputs": [
        {
          "output_type": "stream",
          "name": "stdout",
          "text": [
            "BALANCE                               0\n",
            "BALANCE_FREQUENCY                     0\n",
            "PURCHASES                             0\n",
            "ONEOFF_PURCHASES                      0\n",
            "INSTALLMENTS_PURCHASES                0\n",
            "CASH_ADVANCE                          0\n",
            "PURCHASES_FREQUENCY                   0\n",
            "ONEOFF_PURCHASES_FREQUENCY            0\n",
            "PURCHASES_INSTALLMENTS_FREQUENCY      0\n",
            "CASH_ADVANCE_FREQUENCY                0\n",
            "CASH_ADVANCE_TRX                      0\n",
            "PURCHASES_TRX                         0\n",
            "CREDIT_LIMIT                          1\n",
            "PAYMENTS                              0\n",
            "MINIMUM_PAYMENTS                    313\n",
            "PRC_FULL_PAYMENT                      0\n",
            "dtype: int64\n"
          ]
        }
      ]
    },
    {
      "cell_type": "code",
      "source": [
        "# Substituindo valores faltantes pela mediana\n",
        "dataframe.fillna(dataframe.median(), inplace=True)\n",
        "missing = dataframe.isna().sum()\n",
        "print(missing)"
      ],
      "metadata": {
        "colab": {
          "base_uri": "https://localhost:8080/"
        },
        "id": "gOV8T_Lw7eJh",
        "outputId": "88c01e9b-b900-45aa-dbc0-f8f251665802"
      },
      "execution_count": null,
      "outputs": [
        {
          "output_type": "stream",
          "name": "stdout",
          "text": [
            "BALANCE                             0\n",
            "BALANCE_FREQUENCY                   0\n",
            "PURCHASES                           0\n",
            "ONEOFF_PURCHASES                    0\n",
            "INSTALLMENTS_PURCHASES              0\n",
            "CASH_ADVANCE                        0\n",
            "PURCHASES_FREQUENCY                 0\n",
            "ONEOFF_PURCHASES_FREQUENCY          0\n",
            "PURCHASES_INSTALLMENTS_FREQUENCY    0\n",
            "CASH_ADVANCE_FREQUENCY              0\n",
            "CASH_ADVANCE_TRX                    0\n",
            "PURCHASES_TRX                       0\n",
            "CREDIT_LIMIT                        0\n",
            "PAYMENTS                            0\n",
            "MINIMUM_PAYMENTS                    0\n",
            "PRC_FULL_PAYMENT                    0\n",
            "dtype: int64\n"
          ]
        }
      ]
    },
    {
      "cell_type": "code",
      "source": [
        "# Normalização dos dados\n",
        "from sklearn.preprocessing import Normalizer\n",
        "values = Normalizer().fit_transform(dataframe.values)\n",
        "print(values)"
      ],
      "metadata": {
        "colab": {
          "base_uri": "https://localhost:8080/"
        },
        "id": "AdB2FnK67zYv",
        "outputId": "9d240dae-558a-4bd3-abfa-853e11b447f0"
      },
      "execution_count": null,
      "outputs": [
        {
          "output_type": "stream",
          "name": "stdout",
          "text": [
            "[[3.93555441e-02 7.87271593e-04 9.17958473e-02 ... 1.94178127e-01\n",
            "  1.34239194e-01 0.00000000e+00]\n",
            " [2.93875903e-01 8.34231560e-05 0.00000000e+00 ... 3.76516684e-01\n",
            "  9.84037959e-02 2.03923046e-05]\n",
            " [3.10798149e-01 1.24560965e-04 9.63068011e-02 ... 7.74852335e-02\n",
            "  7.81351982e-02 0.00000000e+00]\n",
            " ...\n",
            " [2.27733092e-02 8.11060955e-04 1.40540698e-01 ... 7.90986945e-02\n",
            "  8.02156174e-02 2.43318384e-04]\n",
            " [2.65257948e-02 1.64255731e-03 0.00000000e+00 ... 1.03579625e-01\n",
            "  1.09898221e-01 4.92767391e-04]\n",
            " [1.86406219e-01 3.33426837e-04 5.46778061e-01 ... 3.15915455e-02\n",
            "  4.41568390e-02 0.00000000e+00]]\n"
          ]
        }
      ]
    },
    {
      "cell_type": "code",
      "source": [
        "#Algortimo não deterministico KMeans\n",
        "from sklearn.cluster import KMeans\n",
        "kmeans = KMeans(n_clusters = 5, n_init=10, max_iter=300)\n",
        "y_pred = kmeans.fit_predict(values)"
      ],
      "metadata": {
        "id": "O82cCLZF892L"
      },
      "execution_count": null,
      "outputs": []
    },
    {
      "cell_type": "code",
      "source": [
        "from sklearn import metrics \n",
        "labels = kmeans.labels_\n",
        "silhouette = metrics.silhouette_score(values, labels, metric='euclidean')\n",
        "print(silhouette)"
      ],
      "metadata": {
        "colab": {
          "base_uri": "https://localhost:8080/"
        },
        "id": "ZYnyyWGj9VJn",
        "outputId": "598d109f-7e1e-48a4-b013-dd0b5d8b32e9"
      },
      "execution_count": null,
      "outputs": [
        {
          "output_type": "stream",
          "name": "stdout",
          "text": [
            "0.3643891019677421\n"
          ]
        }
      ]
    },
    {
      "cell_type": "markdown",
      "source": [
        "![image.png](data:image/png;base64,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)"
      ],
      "metadata": {
        "id": "weVSJs-vz7qo"
      }
    },
    {
      "cell_type": "code",
      "source": [
        "dbs = metrics.davies_bouldin_score(values, labels)\n",
        "dbs"
      ],
      "metadata": {
        "colab": {
          "base_uri": "https://localhost:8080/"
        },
        "id": "nv_18eI7IWE2",
        "outputId": "f47883c8-078f-4644-b0a2-05d821ffe955"
      },
      "execution_count": null,
      "outputs": [
        {
          "output_type": "execute_result",
          "data": {
            "text/plain": [
              "1.075928412708598"
            ]
          },
          "metadata": {},
          "execution_count": 9
        }
      ]
    },
    {
      "cell_type": "code",
      "source": [
        "calinski = metrics.calinski_harabasz_score(values, labels)\n",
        "print(calinski)"
      ],
      "metadata": {
        "id": "PF5NDTBo2YTw",
        "colab": {
          "base_uri": "https://localhost:8080/"
        },
        "outputId": "6743027b-6e32-4b0c-81d3-4790b0f7e2d6"
      },
      "execution_count": null,
      "outputs": [
        {
          "output_type": "stream",
          "name": "stdout",
          "text": [
            "3431.776631279097\n"
          ]
        }
      ]
    },
    {
      "cell_type": "code",
      "source": [
        "def clustering_algotithm(n_clusters, dataset):\n",
        "  kmeans = KMeans(n_clusters=n_clusters, n_init=10, max_iter=300)\n",
        "  labels = kmeans.fit_predict(dataset)\n",
        "  s = metrics.silhouette_score(dataset, labels, metric='euclidean')\n",
        "  dbs = metrics.davies_bouldin_score(dataset, labels)  \n",
        "  calinski = metrics.calinski_harabasz_score(dataset, labels)\n",
        "  return s, dbs, calinski"
      ],
      "metadata": {
        "id": "nzIpSF9TwDkL"
      },
      "execution_count": null,
      "outputs": []
    },
    {
      "cell_type": "code",
      "source": [
        "s1, dbs1, calinski1 = clustering_algotithm(3,values)\n",
        "print(s1, dbs1, calinski1)"
      ],
      "metadata": {
        "colab": {
          "base_uri": "https://localhost:8080/"
        },
        "id": "sKBI4DGCxVY3",
        "outputId": "ddb30873-aa5c-4710-e673-18da8a394bae"
      },
      "execution_count": null,
      "outputs": [
        {
          "output_type": "stream",
          "name": "stdout",
          "text": [
            "0.3272203126696238 1.309607364008843 3526.4405199082735\n"
          ]
        }
      ]
    },
    {
      "cell_type": "code",
      "source": [
        "s2, dbs2, calinski2 = clustering_algotithm(5,values)\n",
        "print(s2, dbs2, calinski2)"
      ],
      "metadata": {
        "colab": {
          "base_uri": "https://localhost:8080/"
        },
        "id": "6F5urwo5xgnz",
        "outputId": "04908f95-af1e-4e20-bdac-bd8cf8dfc387"
      },
      "execution_count": null,
      "outputs": [
        {
          "output_type": "stream",
          "name": "stdout",
          "text": [
            "0.36450417328686124 1.0757705558830923 3431.8008235317793\n"
          ]
        }
      ]
    },
    {
      "cell_type": "code",
      "source": [
        "s3, dbs3, calinski3 = clustering_algotithm(10,values)\n",
        "print(s3, dbs3, calinski3)"
      ],
      "metadata": {
        "colab": {
          "base_uri": "https://localhost:8080/"
        },
        "id": "njFMzuCRx5G1",
        "outputId": "29b1332e-d86d-4135-9217-b0fa0ec53cd7"
      },
      "execution_count": null,
      "outputs": [
        {
          "output_type": "stream",
          "name": "stdout",
          "text": [
            "0.3515315951099124 1.1149518884046803 3019.136702649808\n"
          ]
        }
      ]
    },
    {
      "cell_type": "code",
      "source": [
        "import numpy as np\n",
        "random_data = np.random.rand(8950, 16)\n",
        "s, dbs, calinski = clustering_algotithm(5,random_data)\n",
        "print(s, dbs, calinski)\n",
        "print(s2, dbs2, calinski2)"
      ],
      "metadata": {
        "colab": {
          "base_uri": "https://localhost:8080/"
        },
        "id": "xC5aKuMXyDbX",
        "outputId": "e80f1051-dedf-4d2f-f02c-2502ed862134"
      },
      "execution_count": null,
      "outputs": [
        {
          "output_type": "stream",
          "name": "stdout",
          "text": [
            "0.039601183165113706 3.4819819821706615 303.8632947517327\n",
            "0.36450417328686124 1.0757705558830923 3431.8008235317793\n"
          ]
        }
      ]
    },
    {
      "cell_type": "code",
      "source": [
        "set1, set2, set3 = np.array_split(values, 3)\n",
        "s1, dbs1, calinski1 = clustering_algotithm(5, set1)\n",
        "s2, dbs2, calinski2 = clustering_algotithm(5, set2)\n",
        "s3, dbs3, calinski3 = clustering_algotithm(5, set3)\n",
        "print(s1, dbs1, calinski1)\n",
        "print(s2, dbs2, calinski2)\n",
        "print(s3, dbs3, calinski3)"
      ],
      "metadata": {
        "colab": {
          "base_uri": "https://localhost:8080/"
        },
        "id": "tv1FARPFy1xD",
        "outputId": "66bd34a0-8fa7-45fa-a1d7-a831ff5531e4"
      },
      "execution_count": null,
      "outputs": [
        {
          "output_type": "stream",
          "name": "stdout",
          "text": [
            "0.3692455604046628 1.055043972045924 1203.9722444846886\n",
            "0.35416642754504835 1.1382306445993162 1194.9519865048878\n",
            "0.36704188760608253 1.0984932613776763 1167.5309516803998\n"
          ]
        }
      ]
    },
    {
      "cell_type": "code",
      "source": [
        "import matplotlib.pyplot as plt\n",
        "plt.scatter(dataframe['PURCHASES'], dataframe['PAYMENTS'], c=labels, s=5, cmap='rainbow')\n",
        "plt.xlabel(\"Valor total pago\")\n",
        "plt.ylabel(\"Valor total gasto\")\n",
        "plt.show()"
      ],
      "metadata": {
        "id": "ETOmartfzvDb",
        "colab": {
          "base_uri": "https://localhost:8080/",
          "height": 279
        },
        "outputId": "a76519d7-be17-4f62-d486-0d1a60302de1"
      },
      "execution_count": null,
      "outputs": [
        {
          "output_type": "display_data",
          "data": {
            "image/png": "[encoded data removed]",
            "text/plain": [
              "<Figure size 432x288 with 1 Axes>"
            ]
          },
          "metadata": {
            "needs_background": "light"
          }
        }
      ]
    },
    {
      "cell_type": "code",
      "source": [
        "import seaborn as sns\n",
        "dataframe['cluster'] = labels\n",
        "sns.pairplot(dataframe[0:], hue=\"cluster\")"
      ],
      "metadata": {
        "colab": {
          "base_uri": "https://localhost:8080/",
          "height": 443
        },
        "id": "nhMV4sGS3Jg3",
        "outputId": "ab856274-a1a0-493f-c1e2-4135ef71b4da"
      },
      "execution_count": null,
      "outputs": [
        {
          "output_type": "execute_result",
          "data": {
            "text/plain": [
              "<seaborn.axisgrid.PairGrid at 0x7f2e934ab210>"
            ]
          },
          "metadata": {},
          "execution_count": 18
        },
        {
          "output_type": "stream",
          "name": "stdout",
          "text": [
            "Error in callback <function flush_figures at 0x7f2eb6b4f0e0> (for post_execute):\n"
          ]
        },
        {
          "output_type": "error",
          "ename": "KeyboardInterrupt",
          "evalue": "ignored",
          "traceback": [
            "\u001b[0;31m---------------------------------------------------------------------------\u001b[0m",
            "\u001b[0;31mKeyboardInterrupt\u001b[0m                         Traceback (most recent call last)",
            "\u001b[0;32m/usr/local/lib/python3.7/dist-packages/ipykernel/pylab/backend_inline.py\u001b[0m in \u001b[0;36mflush_figures\u001b[0;34m()\u001b[0m\n\u001b[1;32m    115\u001b[0m         \u001b[0;31m# ignore the tracking, just draw and close all figures\u001b[0m\u001b[0;34m\u001b[0m\u001b[0;34m\u001b[0m\u001b[0;34m\u001b[0m\u001b[0m\n\u001b[1;32m    116\u001b[0m         \u001b[0;32mtry\u001b[0m\u001b[0;34m:\u001b[0m\u001b[0;34m\u001b[0m\u001b[0;34m\u001b[0m\u001b[0m\n\u001b[0;32m--> 117\u001b[0;31m             \u001b[0;32mreturn\u001b[0m \u001b[0mshow\u001b[0m\u001b[0;34m(\u001b[0m\u001b[0;32mTrue\u001b[0m\u001b[0;34m)\u001b[0m\u001b[0;34m\u001b[0m\u001b[0;34m\u001b[0m\u001b[0m\n\u001b[0m\u001b[1;32m    118\u001b[0m         \u001b[0;32mexcept\u001b[0m \u001b[0mException\u001b[0m \u001b[0;32mas\u001b[0m \u001b[0me\u001b[0m\u001b[0;34m:\u001b[0m\u001b[0;34m\u001b[0m\u001b[0;34m\u001b[0m\u001b[0m\n\u001b[1;32m    119\u001b[0m             \u001b[0;31m# safely show traceback if in IPython, else raise\u001b[0m\u001b[0;34m\u001b[0m\u001b[0;34m\u001b[0m\u001b[0;34m\u001b[0m\u001b[0m\n",
            "\u001b[0;32m/usr/local/lib/python3.7/dist-packages/ipykernel/pylab/backend_inline.py\u001b[0m in \u001b[0;36mshow\u001b[0;34m(close, block)\u001b[0m\n\u001b[1;32m     37\u001b[0m             display(\n\u001b[1;32m     38\u001b[0m                 \u001b[0mfigure_manager\u001b[0m\u001b[0;34m.\u001b[0m\u001b[0mcanvas\u001b[0m\u001b[0;34m.\u001b[0m\u001b[0mfigure\u001b[0m\u001b[0;34m,\u001b[0m\u001b[0;34m\u001b[0m\u001b[0;34m\u001b[0m\u001b[0m\n\u001b[0;32m---> 39\u001b[0;31m                 \u001b[0mmetadata\u001b[0m\u001b[0;34m=\u001b[0m\u001b[0m_fetch_figure_metadata\u001b[0m\u001b[0;34m(\u001b[0m\u001b[0mfigure_manager\u001b[0m\u001b[0;34m.\u001b[0m\u001b[0mcanvas\u001b[0m\u001b[0;34m.\u001b[0m\u001b[0mfigure\u001b[0m\u001b[0;34m)\u001b[0m\u001b[0;34m\u001b[0m\u001b[0;34m\u001b[0m\u001b[0m\n\u001b[0m\u001b[1;32m     40\u001b[0m             )\n\u001b[1;32m     41\u001b[0m     \u001b[0;32mfinally\u001b[0m\u001b[0;34m:\u001b[0m\u001b[0;34m\u001b[0m\u001b[0;34m\u001b[0m\u001b[0m\n",
            "\u001b[0;32m/usr/local/lib/python3.7/dist-packages/IPython/core/display.py\u001b[0m in \u001b[0;36mdisplay\u001b[0;34m(*objs, **kwargs)\u001b[0m\n\u001b[1;32m    304\u001b[0m             \u001b[0mpublish_display_data\u001b[0m\u001b[0;34m(\u001b[0m\u001b[0mdata\u001b[0m\u001b[0;34m=\u001b[0m\u001b[0mobj\u001b[0m\u001b[0;34m,\u001b[0m \u001b[0mmetadata\u001b[0m\u001b[0;34m=\u001b[0m\u001b[0mmetadata\u001b[0m\u001b[0;34m,\u001b[0m \u001b[0;34m**\u001b[0m\u001b[0mkwargs\u001b[0m\u001b[0;34m)\u001b[0m\u001b[0;34m\u001b[0m\u001b[0;34m\u001b[0m\u001b[0m\n\u001b[1;32m    305\u001b[0m         \u001b[0;32melse\u001b[0m\u001b[0;34m:\u001b[0m\u001b[0;34m\u001b[0m\u001b[0;34m\u001b[0m\u001b[0m\n\u001b[0;32m--> 306\u001b[0;31m             \u001b[0mformat_dict\u001b[0m\u001b[0;34m,\u001b[0m \u001b[0mmd_dict\u001b[0m \u001b[0;34m=\u001b[0m \u001b[0mformat\u001b[0m\u001b[0;34m(\u001b[0m\u001b[0mobj\u001b[0m\u001b[0;34m,\u001b[0m \u001b[0minclude\u001b[0m\u001b[0;34m=\u001b[0m\u001b[0minclude\u001b[0m\u001b[0;34m,\u001b[0m \u001b[0mexclude\u001b[0m\u001b[0;34m=\u001b[0m\u001b[0mexclude\u001b[0m\u001b[0;34m)\u001b[0m\u001b[0;34m\u001b[0m\u001b[0;34m\u001b[0m\u001b[0m\n\u001b[0m\u001b[1;32m    307\u001b[0m             \u001b[0;32mif\u001b[0m \u001b[0;32mnot\u001b[0m \u001b[0mformat_dict\u001b[0m\u001b[0;34m:\u001b[0m\u001b[0;34m\u001b[0m\u001b[0;34m\u001b[0m\u001b[0m\n\u001b[1;32m    308\u001b[0m                 \u001b[0;31m# nothing to display (e.g. _ipython_display_ took over)\u001b[0m\u001b[0;34m\u001b[0m\u001b[0;34m\u001b[0m\u001b[0;34m\u001b[0m\u001b[0m\n",
            "\u001b[0;32m/usr/local/lib/python3.7/dist-packages/IPython/core/formatters.py\u001b[0m in \u001b[0;36mformat\u001b[0;34m(self, obj, include, exclude)\u001b[0m\n\u001b[1;32m    171\u001b[0m             \u001b[0mmd\u001b[0m \u001b[0;34m=\u001b[0m \u001b[0;32mNone\u001b[0m\u001b[0;34m\u001b[0m\u001b[0;34m\u001b[0m\u001b[0m\n\u001b[1;32m    172\u001b[0m             \u001b[0;32mtry\u001b[0m\u001b[0;34m:\u001b[0m\u001b[0;34m\u001b[0m\u001b[0;34m\u001b[0m\u001b[0m\n\u001b[0;32m--> 173\u001b[0;31m                 \u001b[0mdata\u001b[0m \u001b[0;34m=\u001b[0m \u001b[0mformatter\u001b[0m\u001b[0;34m(\u001b[0m\u001b[0mobj\u001b[0m\u001b[0;34m)\u001b[0m\u001b[0;34m\u001b[0m\u001b[0;34m\u001b[0m\u001b[0m\n\u001b[0m\u001b[1;32m    174\u001b[0m             \u001b[0;32mexcept\u001b[0m\u001b[0;34m:\u001b[0m\u001b[0;34m\u001b[0m\u001b[0;34m\u001b[0m\u001b[0m\n\u001b[1;32m    175\u001b[0m                 \u001b[0;31m# FIXME: log the exception\u001b[0m\u001b[0;34m\u001b[0m\u001b[0;34m\u001b[0m\u001b[0;34m\u001b[0m\u001b[0m\n",
            "\u001b[0;32m<decorator-gen-2>\u001b[0m in \u001b[0;36m__call__\u001b[0;34m(self, obj)\u001b[0m\n",
            "\u001b[0;32m/usr/local/lib/python3.7/dist-packages/IPython/core/formatters.py\u001b[0m in \u001b[0;36mcatch_format_error\u001b[0;34m(method, self, *args, **kwargs)\u001b[0m\n\u001b[1;32m    215\u001b[0m     \u001b[0;34m\"\"\"show traceback on failed format call\"\"\"\u001b[0m\u001b[0;34m\u001b[0m\u001b[0;34m\u001b[0m\u001b[0m\n\u001b[1;32m    216\u001b[0m     \u001b[0;32mtry\u001b[0m\u001b[0;34m:\u001b[0m\u001b[0;34m\u001b[0m\u001b[0;34m\u001b[0m\u001b[0m\n\u001b[0;32m--> 217\u001b[0;31m         \u001b[0mr\u001b[0m \u001b[0;34m=\u001b[0m \u001b[0mmethod\u001b[0m\u001b[0;34m(\u001b[0m\u001b[0mself\u001b[0m\u001b[0;34m,\u001b[0m \u001b[0;34m*\u001b[0m\u001b[0margs\u001b[0m\u001b[0;34m,\u001b[0m \u001b[0;34m**\u001b[0m\u001b[0mkwargs\u001b[0m\u001b[0;34m)\u001b[0m\u001b[0;34m\u001b[0m\u001b[0;34m\u001b[0m\u001b[0m\n\u001b[0m\u001b[1;32m    218\u001b[0m     \u001b[0;32mexcept\u001b[0m \u001b[0mNotImplementedError\u001b[0m\u001b[0;34m:\u001b[0m\u001b[0;34m\u001b[0m\u001b[0;34m\u001b[0m\u001b[0m\n\u001b[1;32m    219\u001b[0m         \u001b[0;31m# don't warn on NotImplementedErrors\u001b[0m\u001b[0;34m\u001b[0m\u001b[0;34m\u001b[0m\u001b[0;34m\u001b[0m\u001b[0m\n",
            "\u001b[0;32m/usr/local/lib/python3.7/dist-packages/IPython/core/formatters.py\u001b[0m in \u001b[0;36m__call__\u001b[0;34m(self, obj)\u001b[0m\n\u001b[1;32m    332\u001b[0m                 \u001b[0;32mpass\u001b[0m\u001b[0;34m\u001b[0m\u001b[0;34m\u001b[0m\u001b[0m\n\u001b[1;32m    333\u001b[0m             \u001b[0;32melse\u001b[0m\u001b[0;34m:\u001b[0m\u001b[0;34m\u001b[0m\u001b[0;34m\u001b[0m\u001b[0m\n\u001b[0;32m--> 334\u001b[0;31m                 \u001b[0;32mreturn\u001b[0m \u001b[0mprinter\u001b[0m\u001b[0;34m(\u001b[0m\u001b[0mobj\u001b[0m\u001b[0;34m)\u001b[0m\u001b[0;34m\u001b[0m\u001b[0;34m\u001b[0m\u001b[0m\n\u001b[0m\u001b[1;32m    335\u001b[0m             \u001b[0;31m# Finally look for special method names\u001b[0m\u001b[0;34m\u001b[0m\u001b[0;34m\u001b[0m\u001b[0;34m\u001b[0m\u001b[0m\n\u001b[1;32m    336\u001b[0m             \u001b[0mmethod\u001b[0m \u001b[0;34m=\u001b[0m \u001b[0mget_real_method\u001b[0m\u001b[0;34m(\u001b[0m\u001b[0mobj\u001b[0m\u001b[0;34m,\u001b[0m \u001b[0mself\u001b[0m\u001b[0;34m.\u001b[0m\u001b[0mprint_method\u001b[0m\u001b[0;34m)\u001b[0m\u001b[0;34m\u001b[0m\u001b[0;34m\u001b[0m\u001b[0m\n",
            "\u001b[0;32m/usr/local/lib/python3.7/dist-packages/IPython/core/pylabtools.py\u001b[0m in \u001b[0;36m<lambda>\u001b[0;34m(fig)\u001b[0m\n\u001b[1;32m    239\u001b[0m \u001b[0;34m\u001b[0m\u001b[0m\n\u001b[1;32m    240\u001b[0m     \u001b[0;32mif\u001b[0m \u001b[0;34m'png'\u001b[0m \u001b[0;32min\u001b[0m \u001b[0mformats\u001b[0m\u001b[0;34m:\u001b[0m\u001b[0;34m\u001b[0m\u001b[0;34m\u001b[0m\u001b[0m\n\u001b[0;32m--> 241\u001b[0;31m         \u001b[0mpng_formatter\u001b[0m\u001b[0;34m.\u001b[0m\u001b[0mfor_type\u001b[0m\u001b[0;34m(\u001b[0m\u001b[0mFigure\u001b[0m\u001b[0;34m,\u001b[0m \u001b[0;32mlambda\u001b[0m \u001b[0mfig\u001b[0m\u001b[0;34m:\u001b[0m \u001b[0mprint_figure\u001b[0m\u001b[0;34m(\u001b[0m\u001b[0mfig\u001b[0m\u001b[0;34m,\u001b[0m \u001b[0;34m'png'\u001b[0m\u001b[0;34m,\u001b[0m \u001b[0;34m**\u001b[0m\u001b[0mkwargs\u001b[0m\u001b[0;34m)\u001b[0m\u001b[0;34m)\u001b[0m\u001b[0;34m\u001b[0m\u001b[0;34m\u001b[0m\u001b[0m\n\u001b[0m\u001b[1;32m    242\u001b[0m     \u001b[0;32mif\u001b[0m \u001b[0;34m'retina'\u001b[0m \u001b[0;32min\u001b[0m \u001b[0mformats\u001b[0m \u001b[0;32mor\u001b[0m \u001b[0;34m'png2x'\u001b[0m \u001b[0;32min\u001b[0m \u001b[0mformats\u001b[0m\u001b[0;34m:\u001b[0m\u001b[0;34m\u001b[0m\u001b[0;34m\u001b[0m\u001b[0m\n\u001b[1;32m    243\u001b[0m         \u001b[0mpng_formatter\u001b[0m\u001b[0;34m.\u001b[0m\u001b[0mfor_type\u001b[0m\u001b[0;34m(\u001b[0m\u001b[0mFigure\u001b[0m\u001b[0;34m,\u001b[0m \u001b[0;32mlambda\u001b[0m \u001b[0mfig\u001b[0m\u001b[0;34m:\u001b[0m \u001b[0mretina_figure\u001b[0m\u001b[0;34m(\u001b[0m\u001b[0mfig\u001b[0m\u001b[0;34m,\u001b[0m \u001b[0;34m**\u001b[0m\u001b[0mkwargs\u001b[0m\u001b[0;34m)\u001b[0m\u001b[0;34m)\u001b[0m\u001b[0;34m\u001b[0m\u001b[0;34m\u001b[0m\u001b[0m\n",
            "\u001b[0;32m/usr/local/lib/python3.7/dist-packages/IPython/core/pylabtools.py\u001b[0m in \u001b[0;36mprint_figure\u001b[0;34m(fig, fmt, bbox_inches, **kwargs)\u001b[0m\n\u001b[1;32m    123\u001b[0m \u001b[0;34m\u001b[0m\u001b[0m\n\u001b[1;32m    124\u001b[0m     \u001b[0mbytes_io\u001b[0m \u001b[0;34m=\u001b[0m \u001b[0mBytesIO\u001b[0m\u001b[0;34m(\u001b[0m\u001b[0;34m)\u001b[0m\u001b[0;34m\u001b[0m\u001b[0;34m\u001b[0m\u001b[0m\n\u001b[0;32m--> 125\u001b[0;31m     \u001b[0mfig\u001b[0m\u001b[0;34m.\u001b[0m\u001b[0mcanvas\u001b[0m\u001b[0;34m.\u001b[0m\u001b[0mprint_figure\u001b[0m\u001b[0;34m(\u001b[0m\u001b[0mbytes_io\u001b[0m\u001b[0;34m,\u001b[0m \u001b[0;34m**\u001b[0m\u001b[0mkw\u001b[0m\u001b[0;34m)\u001b[0m\u001b[0;34m\u001b[0m\u001b[0;34m\u001b[0m\u001b[0m\n\u001b[0m\u001b[1;32m    126\u001b[0m     \u001b[0mdata\u001b[0m \u001b[0;34m=\u001b[0m \u001b[0mbytes_io\u001b[0m\u001b[0;34m.\u001b[0m\u001b[0mgetvalue\u001b[0m\u001b[0;34m(\u001b[0m\u001b[0;34m)\u001b[0m\u001b[0;34m\u001b[0m\u001b[0;34m\u001b[0m\u001b[0m\n\u001b[1;32m    127\u001b[0m     \u001b[0;32mif\u001b[0m \u001b[0mfmt\u001b[0m \u001b[0;34m==\u001b[0m \u001b[0;34m'svg'\u001b[0m\u001b[0;34m:\u001b[0m\u001b[0;34m\u001b[0m\u001b[0;34m\u001b[0m\u001b[0m\n",
            "\u001b[0;32m/usr/local/lib/python3.7/dist-packages/matplotlib/backend_bases.py\u001b[0m in \u001b[0;36mprint_figure\u001b[0;34m(self, filename, dpi, facecolor, edgecolor, orientation, format, bbox_inches, **kwargs)\u001b[0m\n\u001b[1;32m   2101\u001b[0m                     \u001b[0mbbox_artists\u001b[0m \u001b[0;34m=\u001b[0m \u001b[0mkwargs\u001b[0m\u001b[0;34m.\u001b[0m\u001b[0mpop\u001b[0m\u001b[0;34m(\u001b[0m\u001b[0;34m\"bbox_extra_artists\"\u001b[0m\u001b[0;34m,\u001b[0m \u001b[0;32mNone\u001b[0m\u001b[0;34m)\u001b[0m\u001b[0;34m\u001b[0m\u001b[0;34m\u001b[0m\u001b[0m\n\u001b[1;32m   2102\u001b[0m                     bbox_inches = self.figure.get_tightbbox(renderer,\n\u001b[0;32m-> 2103\u001b[0;31m                             bbox_extra_artists=bbox_artists)\n\u001b[0m\u001b[1;32m   2104\u001b[0m                     \u001b[0mpad\u001b[0m \u001b[0;34m=\u001b[0m \u001b[0mkwargs\u001b[0m\u001b[0;34m.\u001b[0m\u001b[0mpop\u001b[0m\u001b[0;34m(\u001b[0m\u001b[0;34m\"pad_inches\"\u001b[0m\u001b[0;34m,\u001b[0m \u001b[0;32mNone\u001b[0m\u001b[0;34m)\u001b[0m\u001b[0;34m\u001b[0m\u001b[0;34m\u001b[0m\u001b[0m\n\u001b[1;32m   2105\u001b[0m                     \u001b[0;32mif\u001b[0m \u001b[0mpad\u001b[0m \u001b[0;32mis\u001b[0m \u001b[0;32mNone\u001b[0m\u001b[0;34m:\u001b[0m\u001b[0;34m\u001b[0m\u001b[0;34m\u001b[0m\u001b[0m\n",
            "\u001b[0;32m/usr/local/lib/python3.7/dist-packages/matplotlib/figure.py\u001b[0m in \u001b[0;36mget_tightbbox\u001b[0;34m(self, renderer, bbox_extra_artists)\u001b[0m\n\u001b[1;32m   2393\u001b[0m                 \u001b[0;32mtry\u001b[0m\u001b[0;34m:\u001b[0m\u001b[0;34m\u001b[0m\u001b[0;34m\u001b[0m\u001b[0m\n\u001b[1;32m   2394\u001b[0m                     bbox = ax.get_tightbbox(renderer,\n\u001b[0;32m-> 2395\u001b[0;31m                             bbox_extra_artists=bbox_extra_artists)\n\u001b[0m\u001b[1;32m   2396\u001b[0m                 \u001b[0;32mexcept\u001b[0m \u001b[0mTypeError\u001b[0m\u001b[0;34m:\u001b[0m\u001b[0;34m\u001b[0m\u001b[0;34m\u001b[0m\u001b[0m\n\u001b[1;32m   2397\u001b[0m                     \u001b[0mbbox\u001b[0m \u001b[0;34m=\u001b[0m \u001b[0max\u001b[0m\u001b[0;34m.\u001b[0m\u001b[0mget_tightbbox\u001b[0m\u001b[0;34m(\u001b[0m\u001b[0mrenderer\u001b[0m\u001b[0;34m)\u001b[0m\u001b[0;34m\u001b[0m\u001b[0;34m\u001b[0m\u001b[0m\n",
            "\u001b[0;32m/usr/local/lib/python3.7/dist-packages/matplotlib/axes/_base.py\u001b[0m in \u001b[0;36mget_tightbbox\u001b[0;34m(self, renderer, call_axes_locator, bbox_extra_artists)\u001b[0m\n\u001b[1;32m   4333\u001b[0m         \u001b[0mbb\u001b[0m\u001b[0;34m.\u001b[0m\u001b[0mappend\u001b[0m\u001b[0;34m(\u001b[0m\u001b[0maxbbox\u001b[0m\u001b[0;34m)\u001b[0m\u001b[0;34m\u001b[0m\u001b[0;34m\u001b[0m\u001b[0m\n\u001b[1;32m   4334\u001b[0m \u001b[0;34m\u001b[0m\u001b[0m\n\u001b[0;32m-> 4335\u001b[0;31m         \u001b[0mself\u001b[0m\u001b[0;34m.\u001b[0m\u001b[0m_update_title_position\u001b[0m\u001b[0;34m(\u001b[0m\u001b[0mrenderer\u001b[0m\u001b[0;34m)\u001b[0m\u001b[0;34m\u001b[0m\u001b[0;34m\u001b[0m\u001b[0m\n\u001b[0m\u001b[1;32m   4336\u001b[0m         \u001b[0;32mif\u001b[0m \u001b[0mself\u001b[0m\u001b[0;34m.\u001b[0m\u001b[0mtitle\u001b[0m\u001b[0;34m.\u001b[0m\u001b[0mget_visible\u001b[0m\u001b[0;34m(\u001b[0m\u001b[0;34m)\u001b[0m\u001b[0;34m:\u001b[0m\u001b[0;34m\u001b[0m\u001b[0;34m\u001b[0m\u001b[0m\n\u001b[1;32m   4337\u001b[0m             \u001b[0mbb\u001b[0m\u001b[0;34m.\u001b[0m\u001b[0mappend\u001b[0m\u001b[0;34m(\u001b[0m\u001b[0mself\u001b[0m\u001b[0;34m.\u001b[0m\u001b[0mtitle\u001b[0m\u001b[0;34m.\u001b[0m\u001b[0mget_window_extent\u001b[0m\u001b[0;34m(\u001b[0m\u001b[0mrenderer\u001b[0m\u001b[0;34m)\u001b[0m\u001b[0;34m)\u001b[0m\u001b[0;34m\u001b[0m\u001b[0;34m\u001b[0m\u001b[0m\n",
            "\u001b[0;32m/usr/local/lib/python3.7/dist-packages/matplotlib/axes/_base.py\u001b[0m in \u001b[0;36m_update_title_position\u001b[0;34m(self, renderer)\u001b[0m\n\u001b[1;32m   2531\u001b[0m                 if (ax.xaxis.get_ticks_position() in ['top', 'unknown']\n\u001b[1;32m   2532\u001b[0m                         or ax.xaxis.get_label_position() == 'top'):\n\u001b[0;32m-> 2533\u001b[0;31m                     \u001b[0mbb\u001b[0m \u001b[0;34m=\u001b[0m \u001b[0max\u001b[0m\u001b[0;34m.\u001b[0m\u001b[0mxaxis\u001b[0m\u001b[0;34m.\u001b[0m\u001b[0mget_tightbbox\u001b[0m\u001b[0;34m(\u001b[0m\u001b[0mrenderer\u001b[0m\u001b[0;34m)\u001b[0m\u001b[0;34m\u001b[0m\u001b[0;34m\u001b[0m\u001b[0m\n\u001b[0m\u001b[1;32m   2534\u001b[0m                 \u001b[0;32melse\u001b[0m\u001b[0;34m:\u001b[0m\u001b[0;34m\u001b[0m\u001b[0;34m\u001b[0m\u001b[0m\n\u001b[1;32m   2535\u001b[0m                     \u001b[0mbb\u001b[0m \u001b[0;34m=\u001b[0m \u001b[0max\u001b[0m\u001b[0;34m.\u001b[0m\u001b[0mget_window_extent\u001b[0m\u001b[0;34m(\u001b[0m\u001b[0mrenderer\u001b[0m\u001b[0;34m)\u001b[0m\u001b[0;34m\u001b[0m\u001b[0;34m\u001b[0m\u001b[0m\n",
            "\u001b[0;32m/usr/local/lib/python3.7/dist-packages/matplotlib/axis.py\u001b[0m in \u001b[0;36mget_tightbbox\u001b[0;34m(self, renderer)\u001b[0m\n\u001b[1;32m   1184\u001b[0m             \u001b[0;32mreturn\u001b[0m\u001b[0;34m\u001b[0m\u001b[0;34m\u001b[0m\u001b[0m\n\u001b[1;32m   1185\u001b[0m \u001b[0;34m\u001b[0m\u001b[0m\n\u001b[0;32m-> 1186\u001b[0;31m         \u001b[0mticks_to_draw\u001b[0m \u001b[0;34m=\u001b[0m \u001b[0mself\u001b[0m\u001b[0;34m.\u001b[0m\u001b[0m_update_ticks\u001b[0m\u001b[0;34m(\u001b[0m\u001b[0;34m)\u001b[0m\u001b[0;34m\u001b[0m\u001b[0;34m\u001b[0m\u001b[0m\n\u001b[0m\u001b[1;32m   1187\u001b[0m \u001b[0;34m\u001b[0m\u001b[0m\n\u001b[1;32m   1188\u001b[0m         \u001b[0mself\u001b[0m\u001b[0;34m.\u001b[0m\u001b[0m_update_label_position\u001b[0m\u001b[0;34m(\u001b[0m\u001b[0mrenderer\u001b[0m\u001b[0;34m)\u001b[0m\u001b[0;34m\u001b[0m\u001b[0;34m\u001b[0m\u001b[0m\n",
            "\u001b[0;32m/usr/local/lib/python3.7/dist-packages/matplotlib/axis.py\u001b[0m in \u001b[0;36m_update_ticks\u001b[0;34m(self)\u001b[0m\n\u001b[1;32m   1101\u001b[0m         \u001b[0mthe\u001b[0m \u001b[0maxes\u001b[0m\u001b[0;34m.\u001b[0m  \u001b[0mReturn\u001b[0m \u001b[0mthe\u001b[0m \u001b[0mlist\u001b[0m \u001b[0mof\u001b[0m \u001b[0mticks\u001b[0m \u001b[0mthat\u001b[0m \u001b[0mwill\u001b[0m \u001b[0mbe\u001b[0m \u001b[0mdrawn\u001b[0m\u001b[0;34m.\u001b[0m\u001b[0;34m\u001b[0m\u001b[0;34m\u001b[0m\u001b[0m\n\u001b[1;32m   1102\u001b[0m         \"\"\"\n\u001b[0;32m-> 1103\u001b[0;31m         \u001b[0mmajor_locs\u001b[0m \u001b[0;34m=\u001b[0m \u001b[0mself\u001b[0m\u001b[0;34m.\u001b[0m\u001b[0mget_majorticklocs\u001b[0m\u001b[0;34m(\u001b[0m\u001b[0;34m)\u001b[0m\u001b[0;34m\u001b[0m\u001b[0;34m\u001b[0m\u001b[0m\n\u001b[0m\u001b[1;32m   1104\u001b[0m         \u001b[0mmajor_labels\u001b[0m \u001b[0;34m=\u001b[0m \u001b[0mself\u001b[0m\u001b[0;34m.\u001b[0m\u001b[0mmajor\u001b[0m\u001b[0;34m.\u001b[0m\u001b[0mformatter\u001b[0m\u001b[0;34m.\u001b[0m\u001b[0mformat_ticks\u001b[0m\u001b[0;34m(\u001b[0m\u001b[0mmajor_locs\u001b[0m\u001b[0;34m)\u001b[0m\u001b[0;34m\u001b[0m\u001b[0;34m\u001b[0m\u001b[0m\n\u001b[1;32m   1105\u001b[0m         \u001b[0mmajor_ticks\u001b[0m \u001b[0;34m=\u001b[0m \u001b[0mself\u001b[0m\u001b[0;34m.\u001b[0m\u001b[0mget_major_ticks\u001b[0m\u001b[0;34m(\u001b[0m\u001b[0mlen\u001b[0m\u001b[0;34m(\u001b[0m\u001b[0mmajor_locs\u001b[0m\u001b[0;34m)\u001b[0m\u001b[0;34m)\u001b[0m\u001b[0;34m\u001b[0m\u001b[0;34m\u001b[0m\u001b[0m\n",
            "\u001b[0;32m/usr/local/lib/python3.7/dist-packages/matplotlib/axis.py\u001b[0m in \u001b[0;36mget_majorticklocs\u001b[0;34m(self)\u001b[0m\n\u001b[1;32m   1346\u001b[0m     \u001b[0;32mdef\u001b[0m \u001b[0mget_majorticklocs\u001b[0m\u001b[0;34m(\u001b[0m\u001b[0mself\u001b[0m\u001b[0;34m)\u001b[0m\u001b[0;34m:\u001b[0m\u001b[0;34m\u001b[0m\u001b[0;34m\u001b[0m\u001b[0m\n\u001b[1;32m   1347\u001b[0m         \u001b[0;34m\"\"\"Get the array of major tick locations in data coordinates.\"\"\"\u001b[0m\u001b[0;34m\u001b[0m\u001b[0;34m\u001b[0m\u001b[0m\n\u001b[0;32m-> 1348\u001b[0;31m         \u001b[0;32mreturn\u001b[0m \u001b[0mself\u001b[0m\u001b[0;34m.\u001b[0m\u001b[0mmajor\u001b[0m\u001b[0;34m.\u001b[0m\u001b[0mlocator\u001b[0m\u001b[0;34m(\u001b[0m\u001b[0;34m)\u001b[0m\u001b[0;34m\u001b[0m\u001b[0;34m\u001b[0m\u001b[0m\n\u001b[0m\u001b[1;32m   1349\u001b[0m \u001b[0;34m\u001b[0m\u001b[0m\n\u001b[1;32m   1350\u001b[0m     \u001b[0;32mdef\u001b[0m \u001b[0mget_minorticklocs\u001b[0m\u001b[0;34m(\u001b[0m\u001b[0mself\u001b[0m\u001b[0;34m)\u001b[0m\u001b[0;34m:\u001b[0m\u001b[0;34m\u001b[0m\u001b[0;34m\u001b[0m\u001b[0m\n",
            "\u001b[0;32m/usr/local/lib/python3.7/dist-packages/matplotlib/ticker.py\u001b[0m in \u001b[0;36m__call__\u001b[0;34m(self)\u001b[0m\n\u001b[1;32m   2201\u001b[0m     \u001b[0;32mdef\u001b[0m \u001b[0m__call__\u001b[0m\u001b[0;34m(\u001b[0m\u001b[0mself\u001b[0m\u001b[0;34m)\u001b[0m\u001b[0;34m:\u001b[0m\u001b[0;34m\u001b[0m\u001b[0;34m\u001b[0m\u001b[0m\n\u001b[1;32m   2202\u001b[0m         \u001b[0mvmin\u001b[0m\u001b[0;34m,\u001b[0m \u001b[0mvmax\u001b[0m \u001b[0;34m=\u001b[0m \u001b[0mself\u001b[0m\u001b[0;34m.\u001b[0m\u001b[0maxis\u001b[0m\u001b[0;34m.\u001b[0m\u001b[0mget_view_interval\u001b[0m\u001b[0;34m(\u001b[0m\u001b[0;34m)\u001b[0m\u001b[0;34m\u001b[0m\u001b[0;34m\u001b[0m\u001b[0m\n\u001b[0;32m-> 2203\u001b[0;31m         \u001b[0;32mreturn\u001b[0m \u001b[0mself\u001b[0m\u001b[0;34m.\u001b[0m\u001b[0mtick_values\u001b[0m\u001b[0;34m(\u001b[0m\u001b[0mvmin\u001b[0m\u001b[0;34m,\u001b[0m \u001b[0mvmax\u001b[0m\u001b[0;34m)\u001b[0m\u001b[0;34m\u001b[0m\u001b[0;34m\u001b[0m\u001b[0m\n\u001b[0m\u001b[1;32m   2204\u001b[0m \u001b[0;34m\u001b[0m\u001b[0m\n\u001b[1;32m   2205\u001b[0m     \u001b[0;32mdef\u001b[0m \u001b[0mtick_values\u001b[0m\u001b[0;34m(\u001b[0m\u001b[0mself\u001b[0m\u001b[0;34m,\u001b[0m \u001b[0mvmin\u001b[0m\u001b[0;34m,\u001b[0m \u001b[0mvmax\u001b[0m\u001b[0;34m)\u001b[0m\u001b[0;34m:\u001b[0m\u001b[0;34m\u001b[0m\u001b[0;34m\u001b[0m\u001b[0m\n",
            "\u001b[0;32m/usr/local/lib/python3.7/dist-packages/matplotlib/ticker.py\u001b[0m in \u001b[0;36mtick_values\u001b[0;34m(self, vmin, vmax)\u001b[0m\n\u001b[1;32m   2209\u001b[0m         vmin, vmax = mtransforms.nonsingular(\n\u001b[1;32m   2210\u001b[0m             vmin, vmax, expander=1e-13, tiny=1e-14)\n\u001b[0;32m-> 2211\u001b[0;31m         \u001b[0mlocs\u001b[0m \u001b[0;34m=\u001b[0m \u001b[0mself\u001b[0m\u001b[0;34m.\u001b[0m\u001b[0m_raw_ticks\u001b[0m\u001b[0;34m(\u001b[0m\u001b[0mvmin\u001b[0m\u001b[0;34m,\u001b[0m \u001b[0mvmax\u001b[0m\u001b[0;34m)\u001b[0m\u001b[0;34m\u001b[0m\u001b[0;34m\u001b[0m\u001b[0m\n\u001b[0m\u001b[1;32m   2212\u001b[0m \u001b[0;34m\u001b[0m\u001b[0m\n\u001b[1;32m   2213\u001b[0m         \u001b[0mprune\u001b[0m \u001b[0;34m=\u001b[0m \u001b[0mself\u001b[0m\u001b[0;34m.\u001b[0m\u001b[0m_prune\u001b[0m\u001b[0;34m\u001b[0m\u001b[0;34m\u001b[0m\u001b[0m\n",
            "\u001b[0;32m/usr/local/lib/python3.7/dist-packages/matplotlib/ticker.py\u001b[0m in \u001b[0;36m_raw_ticks\u001b[0;34m(self, vmin, vmax)\u001b[0m\n\u001b[1;32m   2148\u001b[0m         \u001b[0;32mif\u001b[0m \u001b[0mself\u001b[0m\u001b[0;34m.\u001b[0m\u001b[0m_nbins\u001b[0m \u001b[0;34m==\u001b[0m \u001b[0;34m'auto'\u001b[0m\u001b[0;34m:\u001b[0m\u001b[0;34m\u001b[0m\u001b[0;34m\u001b[0m\u001b[0m\n\u001b[1;32m   2149\u001b[0m             \u001b[0;32mif\u001b[0m \u001b[0mself\u001b[0m\u001b[0;34m.\u001b[0m\u001b[0maxis\u001b[0m \u001b[0;32mis\u001b[0m \u001b[0;32mnot\u001b[0m \u001b[0;32mNone\u001b[0m\u001b[0;34m:\u001b[0m\u001b[0;34m\u001b[0m\u001b[0;34m\u001b[0m\u001b[0m\n\u001b[0;32m-> 2150\u001b[0;31m                 nbins = np.clip(self.axis.get_tick_space(),\n\u001b[0m\u001b[1;32m   2151\u001b[0m                                 max(1, self._min_n_ticks - 1), 9)\n\u001b[1;32m   2152\u001b[0m             \u001b[0;32melse\u001b[0m\u001b[0;34m:\u001b[0m\u001b[0;34m\u001b[0m\u001b[0;34m\u001b[0m\u001b[0m\n",
            "\u001b[0;32m/usr/local/lib/python3.7/dist-packages/matplotlib/axis.py\u001b[0m in \u001b[0;36mget_tick_space\u001b[0;34m(self)\u001b[0m\n\u001b[1;32m   2188\u001b[0m         \u001b[0mends\u001b[0m \u001b[0;34m=\u001b[0m \u001b[0mself\u001b[0m\u001b[0;34m.\u001b[0m\u001b[0maxes\u001b[0m\u001b[0;34m.\u001b[0m\u001b[0mtransAxes\u001b[0m\u001b[0;34m.\u001b[0m\u001b[0mtransform\u001b[0m\u001b[0;34m(\u001b[0m\u001b[0;34m[\u001b[0m\u001b[0;34m[\u001b[0m\u001b[0;36m0\u001b[0m\u001b[0;34m,\u001b[0m \u001b[0;36m0\u001b[0m\u001b[0;34m]\u001b[0m\u001b[0;34m,\u001b[0m \u001b[0;34m[\u001b[0m\u001b[0;36m1\u001b[0m\u001b[0;34m,\u001b[0m \u001b[0;36m0\u001b[0m\u001b[0;34m]\u001b[0m\u001b[0;34m]\u001b[0m\u001b[0;34m)\u001b[0m\u001b[0;34m\u001b[0m\u001b[0;34m\u001b[0m\u001b[0m\n\u001b[1;32m   2189\u001b[0m         \u001b[0mlength\u001b[0m \u001b[0;34m=\u001b[0m \u001b[0;34m(\u001b[0m\u001b[0;34m(\u001b[0m\u001b[0mends\u001b[0m\u001b[0;34m[\u001b[0m\u001b[0;36m1\u001b[0m\u001b[0;34m]\u001b[0m\u001b[0;34m[\u001b[0m\u001b[0;36m0\u001b[0m\u001b[0;34m]\u001b[0m \u001b[0;34m-\u001b[0m \u001b[0mends\u001b[0m\u001b[0;34m[\u001b[0m\u001b[0;36m0\u001b[0m\u001b[0;34m]\u001b[0m\u001b[0;34m[\u001b[0m\u001b[0;36m0\u001b[0m\u001b[0;34m]\u001b[0m\u001b[0;34m)\u001b[0m \u001b[0;34m/\u001b[0m \u001b[0mself\u001b[0m\u001b[0;34m.\u001b[0m\u001b[0maxes\u001b[0m\u001b[0;34m.\u001b[0m\u001b[0mfigure\u001b[0m\u001b[0;34m.\u001b[0m\u001b[0mdpi\u001b[0m\u001b[0;34m)\u001b[0m \u001b[0;34m*\u001b[0m \u001b[0;36m72\u001b[0m\u001b[0;34m\u001b[0m\u001b[0;34m\u001b[0m\u001b[0m\n\u001b[0;32m-> 2190\u001b[0;31m         \u001b[0mtick\u001b[0m \u001b[0;34m=\u001b[0m \u001b[0mself\u001b[0m\u001b[0;34m.\u001b[0m\u001b[0m_get_tick\u001b[0m\u001b[0;34m(\u001b[0m\u001b[0;32mTrue\u001b[0m\u001b[0;34m)\u001b[0m\u001b[0;34m\u001b[0m\u001b[0;34m\u001b[0m\u001b[0m\n\u001b[0m\u001b[1;32m   2191\u001b[0m         \u001b[0;31m# There is a heuristic here that the aspect ratio of tick text\u001b[0m\u001b[0;34m\u001b[0m\u001b[0;34m\u001b[0m\u001b[0;34m\u001b[0m\u001b[0m\n\u001b[1;32m   2192\u001b[0m         \u001b[0;31m# is no more than 3:1\u001b[0m\u001b[0;34m\u001b[0m\u001b[0;34m\u001b[0m\u001b[0;34m\u001b[0m\u001b[0m\n",
            "\u001b[0;32m/usr/local/lib/python3.7/dist-packages/matplotlib/axis.py\u001b[0m in \u001b[0;36m_get_tick\u001b[0;34m(self, major)\u001b[0m\n\u001b[1;32m   1941\u001b[0m         \u001b[0;32melse\u001b[0m\u001b[0;34m:\u001b[0m\u001b[0;34m\u001b[0m\u001b[0;34m\u001b[0m\u001b[0m\n\u001b[1;32m   1942\u001b[0m             \u001b[0mtick_kw\u001b[0m \u001b[0;34m=\u001b[0m \u001b[0mself\u001b[0m\u001b[0;34m.\u001b[0m\u001b[0m_minor_tick_kw\u001b[0m\u001b[0;34m\u001b[0m\u001b[0;34m\u001b[0m\u001b[0m\n\u001b[0;32m-> 1943\u001b[0;31m         \u001b[0;32mreturn\u001b[0m \u001b[0mXTick\u001b[0m\u001b[0;34m(\u001b[0m\u001b[0mself\u001b[0m\u001b[0;34m.\u001b[0m\u001b[0maxes\u001b[0m\u001b[0;34m,\u001b[0m \u001b[0;36m0\u001b[0m\u001b[0;34m,\u001b[0m \u001b[0;34m''\u001b[0m\u001b[0;34m,\u001b[0m \u001b[0mmajor\u001b[0m\u001b[0;34m=\u001b[0m\u001b[0mmajor\u001b[0m\u001b[0;34m,\u001b[0m \u001b[0;34m**\u001b[0m\u001b[0mtick_kw\u001b[0m\u001b[0;34m)\u001b[0m\u001b[0;34m\u001b[0m\u001b[0;34m\u001b[0m\u001b[0m\n\u001b[0m\u001b[1;32m   1944\u001b[0m \u001b[0;34m\u001b[0m\u001b[0m\n\u001b[1;32m   1945\u001b[0m     \u001b[0;32mdef\u001b[0m \u001b[0m_get_label\u001b[0m\u001b[0;34m(\u001b[0m\u001b[0mself\u001b[0m\u001b[0;34m)\u001b[0m\u001b[0;34m:\u001b[0m\u001b[0;34m\u001b[0m\u001b[0;34m\u001b[0m\u001b[0m\n",
            "\u001b[0;32m/usr/local/lib/python3.7/dist-packages/matplotlib/axis.py\u001b[0m in \u001b[0;36m__init__\u001b[0;34m(self, axes, loc, label, size, width, color, tickdir, pad, labelsize, labelcolor, zorder, gridOn, tick1On, tick2On, label1On, label2On, major, labelrotation, grid_color, grid_linestyle, grid_linewidth, grid_alpha, **kw)\u001b[0m\n\u001b[1;32m    155\u001b[0m         \u001b[0mself\u001b[0m\u001b[0;34m.\u001b[0m\u001b[0mapply_tickdir\u001b[0m\u001b[0;34m(\u001b[0m\u001b[0mtickdir\u001b[0m\u001b[0;34m)\u001b[0m\u001b[0;34m\u001b[0m\u001b[0;34m\u001b[0m\u001b[0m\n\u001b[1;32m    156\u001b[0m \u001b[0;34m\u001b[0m\u001b[0m\n\u001b[0;32m--> 157\u001b[0;31m         \u001b[0mself\u001b[0m\u001b[0;34m.\u001b[0m\u001b[0mtick1line\u001b[0m \u001b[0;34m=\u001b[0m \u001b[0mself\u001b[0m\u001b[0;34m.\u001b[0m\u001b[0m_get_tick1line\u001b[0m\u001b[0;34m(\u001b[0m\u001b[0;34m)\u001b[0m\u001b[0;34m\u001b[0m\u001b[0;34m\u001b[0m\u001b[0m\n\u001b[0m\u001b[1;32m    158\u001b[0m         \u001b[0mself\u001b[0m\u001b[0;34m.\u001b[0m\u001b[0mtick2line\u001b[0m \u001b[0;34m=\u001b[0m \u001b[0mself\u001b[0m\u001b[0;34m.\u001b[0m\u001b[0m_get_tick2line\u001b[0m\u001b[0;34m(\u001b[0m\u001b[0;34m)\u001b[0m\u001b[0;34m\u001b[0m\u001b[0;34m\u001b[0m\u001b[0m\n\u001b[1;32m    159\u001b[0m         \u001b[0mself\u001b[0m\u001b[0;34m.\u001b[0m\u001b[0mgridline\u001b[0m \u001b[0;34m=\u001b[0m \u001b[0mself\u001b[0m\u001b[0;34m.\u001b[0m\u001b[0m_get_gridline\u001b[0m\u001b[0;34m(\u001b[0m\u001b[0;34m)\u001b[0m\u001b[0;34m\u001b[0m\u001b[0;34m\u001b[0m\u001b[0m\n",
            "\u001b[0;32m/usr/local/lib/python3.7/dist-packages/matplotlib/axis.py\u001b[0m in \u001b[0;36m_get_tick1line\u001b[0;34m(self)\u001b[0m\n\u001b[1;32m    463\u001b[0m                           \u001b[0mlinestyle\u001b[0m\u001b[0;34m=\u001b[0m\u001b[0;34m'None'\u001b[0m\u001b[0;34m,\u001b[0m \u001b[0mmarker\u001b[0m\u001b[0;34m=\u001b[0m\u001b[0mself\u001b[0m\u001b[0;34m.\u001b[0m\u001b[0m_tickmarkers\u001b[0m\u001b[0;34m[\u001b[0m\u001b[0;36m0\u001b[0m\u001b[0;34m]\u001b[0m\u001b[0;34m,\u001b[0m\u001b[0;34m\u001b[0m\u001b[0;34m\u001b[0m\u001b[0m\n\u001b[1;32m    464\u001b[0m                           \u001b[0mmarkersize\u001b[0m\u001b[0;34m=\u001b[0m\u001b[0mself\u001b[0m\u001b[0;34m.\u001b[0m\u001b[0m_size\u001b[0m\u001b[0;34m,\u001b[0m\u001b[0;34m\u001b[0m\u001b[0;34m\u001b[0m\u001b[0m\n\u001b[0;32m--> 465\u001b[0;31m                           markeredgewidth=self._width, zorder=self._zorder)\n\u001b[0m\u001b[1;32m    466\u001b[0m         \u001b[0ml\u001b[0m\u001b[0;34m.\u001b[0m\u001b[0mset_transform\u001b[0m\u001b[0;34m(\u001b[0m\u001b[0mself\u001b[0m\u001b[0;34m.\u001b[0m\u001b[0maxes\u001b[0m\u001b[0;34m.\u001b[0m\u001b[0mget_xaxis_transform\u001b[0m\u001b[0;34m(\u001b[0m\u001b[0mwhich\u001b[0m\u001b[0;34m=\u001b[0m\u001b[0;34m'tick1'\u001b[0m\u001b[0;34m)\u001b[0m\u001b[0;34m)\u001b[0m\u001b[0;34m\u001b[0m\u001b[0;34m\u001b[0m\u001b[0m\n\u001b[1;32m    467\u001b[0m         \u001b[0mself\u001b[0m\u001b[0;34m.\u001b[0m\u001b[0m_set_artist_props\u001b[0m\u001b[0;34m(\u001b[0m\u001b[0ml\u001b[0m\u001b[0;34m)\u001b[0m\u001b[0;34m\u001b[0m\u001b[0;34m\u001b[0m\u001b[0m\n",
            "\u001b[0;32m/usr/local/lib/python3.7/dist-packages/matplotlib/lines.py\u001b[0m in \u001b[0;36m__init__\u001b[0;34m(self, xdata, ydata, linewidth, linestyle, color, marker, markersize, markeredgewidth, markeredgecolor, markerfacecolor, markerfacecoloralt, fillstyle, antialiased, dash_capstyle, solid_capstyle, dash_joinstyle, solid_joinstyle, pickradius, drawstyle, markevery, **kwargs)\u001b[0m\n\u001b[1;32m    376\u001b[0m         \u001b[0mself\u001b[0m\u001b[0;34m.\u001b[0m\u001b[0m_color\u001b[0m \u001b[0;34m=\u001b[0m \u001b[0;32mNone\u001b[0m\u001b[0;34m\u001b[0m\u001b[0;34m\u001b[0m\u001b[0m\n\u001b[1;32m    377\u001b[0m         \u001b[0mself\u001b[0m\u001b[0;34m.\u001b[0m\u001b[0mset_color\u001b[0m\u001b[0;34m(\u001b[0m\u001b[0mcolor\u001b[0m\u001b[0;34m)\u001b[0m\u001b[0;34m\u001b[0m\u001b[0;34m\u001b[0m\u001b[0m\n\u001b[0;32m--> 378\u001b[0;31m         \u001b[0mself\u001b[0m\u001b[0;34m.\u001b[0m\u001b[0m_marker\u001b[0m \u001b[0;34m=\u001b[0m \u001b[0mMarkerStyle\u001b[0m\u001b[0;34m(\u001b[0m\u001b[0mmarker\u001b[0m\u001b[0;34m,\u001b[0m \u001b[0mfillstyle\u001b[0m\u001b[0;34m)\u001b[0m\u001b[0;34m\u001b[0m\u001b[0;34m\u001b[0m\u001b[0m\n\u001b[0m\u001b[1;32m    379\u001b[0m \u001b[0;34m\u001b[0m\u001b[0m\n\u001b[1;32m    380\u001b[0m         \u001b[0mself\u001b[0m\u001b[0;34m.\u001b[0m\u001b[0m_markevery\u001b[0m \u001b[0;34m=\u001b[0m \u001b[0;32mNone\u001b[0m\u001b[0;34m\u001b[0m\u001b[0;34m\u001b[0m\u001b[0m\n",
            "\u001b[0;32m/usr/local/lib/python3.7/dist-packages/matplotlib/markers.py\u001b[0m in \u001b[0;36m__init__\u001b[0;34m(self, marker, fillstyle)\u001b[0m\n\u001b[1;32m    223\u001b[0m         \u001b[0mself\u001b[0m\u001b[0;34m.\u001b[0m\u001b[0m_marker_function\u001b[0m \u001b[0;34m=\u001b[0m \u001b[0;32mNone\u001b[0m\u001b[0;34m\u001b[0m\u001b[0;34m\u001b[0m\u001b[0m\n\u001b[1;32m    224\u001b[0m         \u001b[0mself\u001b[0m\u001b[0;34m.\u001b[0m\u001b[0mset_fillstyle\u001b[0m\u001b[0;34m(\u001b[0m\u001b[0mfillstyle\u001b[0m\u001b[0;34m)\u001b[0m\u001b[0;34m\u001b[0m\u001b[0;34m\u001b[0m\u001b[0m\n\u001b[0;32m--> 225\u001b[0;31m         \u001b[0mself\u001b[0m\u001b[0;34m.\u001b[0m\u001b[0mset_marker\u001b[0m\u001b[0;34m(\u001b[0m\u001b[0mmarker\u001b[0m\u001b[0;34m)\u001b[0m\u001b[0;34m\u001b[0m\u001b[0;34m\u001b[0m\u001b[0m\n\u001b[0m\u001b[1;32m    226\u001b[0m \u001b[0;34m\u001b[0m\u001b[0m\n\u001b[1;32m    227\u001b[0m     \u001b[0;32mdef\u001b[0m \u001b[0m_recache\u001b[0m\u001b[0;34m(\u001b[0m\u001b[0mself\u001b[0m\u001b[0;34m)\u001b[0m\u001b[0;34m:\u001b[0m\u001b[0;34m\u001b[0m\u001b[0;34m\u001b[0m\u001b[0m\n",
            "\u001b[0;32m/usr/local/lib/python3.7/dist-packages/matplotlib/markers.py\u001b[0m in \u001b[0;36mset_marker\u001b[0;34m(self, marker)\u001b[0m\n\u001b[1;32m    294\u001b[0m \u001b[0;34m\u001b[0m\u001b[0m\n\u001b[1;32m    295\u001b[0m         \u001b[0mself\u001b[0m\u001b[0;34m.\u001b[0m\u001b[0m_marker\u001b[0m \u001b[0;34m=\u001b[0m \u001b[0mmarker\u001b[0m\u001b[0;34m\u001b[0m\u001b[0;34m\u001b[0m\u001b[0m\n\u001b[0;32m--> 296\u001b[0;31m         \u001b[0mself\u001b[0m\u001b[0;34m.\u001b[0m\u001b[0m_recache\u001b[0m\u001b[0;34m(\u001b[0m\u001b[0;34m)\u001b[0m\u001b[0;34m\u001b[0m\u001b[0;34m\u001b[0m\u001b[0m\n\u001b[0m\u001b[1;32m    297\u001b[0m \u001b[0;34m\u001b[0m\u001b[0m\n\u001b[1;32m    298\u001b[0m     \u001b[0;32mdef\u001b[0m \u001b[0mget_path\u001b[0m\u001b[0;34m(\u001b[0m\u001b[0mself\u001b[0m\u001b[0;34m)\u001b[0m\u001b[0;34m:\u001b[0m\u001b[0;34m\u001b[0m\u001b[0;34m\u001b[0m\u001b[0m\n",
            "\u001b[0;32m/usr/local/lib/python3.7/dist-packages/matplotlib/markers.py\u001b[0m in \u001b[0;36m_recache\u001b[0;34m(self)\u001b[0m\n\u001b[1;32m    236\u001b[0m         \u001b[0mself\u001b[0m\u001b[0;34m.\u001b[0m\u001b[0m_capstyle\u001b[0m \u001b[0;34m=\u001b[0m \u001b[0;34m'butt'\u001b[0m\u001b[0;34m\u001b[0m\u001b[0;34m\u001b[0m\u001b[0m\n\u001b[1;32m    237\u001b[0m         \u001b[0mself\u001b[0m\u001b[0;34m.\u001b[0m\u001b[0m_filled\u001b[0m \u001b[0;34m=\u001b[0m \u001b[0;32mTrue\u001b[0m\u001b[0;34m\u001b[0m\u001b[0;34m\u001b[0m\u001b[0m\n\u001b[0;32m--> 238\u001b[0;31m         \u001b[0mself\u001b[0m\u001b[0;34m.\u001b[0m\u001b[0m_marker_function\u001b[0m\u001b[0;34m(\u001b[0m\u001b[0;34m)\u001b[0m\u001b[0;34m\u001b[0m\u001b[0;34m\u001b[0m\u001b[0m\n\u001b[0m\u001b[1;32m    239\u001b[0m \u001b[0;34m\u001b[0m\u001b[0m\n\u001b[1;32m    240\u001b[0m     \u001b[0;32mdef\u001b[0m \u001b[0m__bool__\u001b[0m\u001b[0;34m(\u001b[0m\u001b[0mself\u001b[0m\u001b[0;34m)\u001b[0m\u001b[0;34m:\u001b[0m\u001b[0;34m\u001b[0m\u001b[0;34m\u001b[0m\u001b[0m\n",
            "\u001b[0;32m/usr/local/lib/python3.7/dist-packages/matplotlib/markers.py\u001b[0m in \u001b[0;36m_set_tickdown\u001b[0;34m(self)\u001b[0m\n\u001b[1;32m    732\u001b[0m \u001b[0;34m\u001b[0m\u001b[0m\n\u001b[1;32m    733\u001b[0m     \u001b[0;32mdef\u001b[0m \u001b[0m_set_tickdown\u001b[0m\u001b[0;34m(\u001b[0m\u001b[0mself\u001b[0m\u001b[0;34m)\u001b[0m\u001b[0;34m:\u001b[0m\u001b[0;34m\u001b[0m\u001b[0;34m\u001b[0m\u001b[0m\n\u001b[0;32m--> 734\u001b[0;31m         \u001b[0mself\u001b[0m\u001b[0;34m.\u001b[0m\u001b[0m_transform\u001b[0m \u001b[0;34m=\u001b[0m \u001b[0mAffine2D\u001b[0m\u001b[0;34m(\u001b[0m\u001b[0;34m)\u001b[0m\u001b[0;34m.\u001b[0m\u001b[0mscale\u001b[0m\u001b[0;34m(\u001b[0m\u001b[0;36m1.0\u001b[0m\u001b[0;34m,\u001b[0m \u001b[0;34m-\u001b[0m\u001b[0;36m1.0\u001b[0m\u001b[0;34m)\u001b[0m\u001b[0;34m\u001b[0m\u001b[0;34m\u001b[0m\u001b[0m\n\u001b[0m\u001b[1;32m    735\u001b[0m         \u001b[0mself\u001b[0m\u001b[0;34m.\u001b[0m\u001b[0m_snap_threshold\u001b[0m \u001b[0;34m=\u001b[0m \u001b[0;36m1.0\u001b[0m\u001b[0;34m\u001b[0m\u001b[0;34m\u001b[0m\u001b[0m\n\u001b[1;32m    736\u001b[0m         \u001b[0mself\u001b[0m\u001b[0;34m.\u001b[0m\u001b[0m_filled\u001b[0m \u001b[0;34m=\u001b[0m \u001b[0;32mFalse\u001b[0m\u001b[0;34m\u001b[0m\u001b[0;34m\u001b[0m\u001b[0m\n",
            "\u001b[0;31mKeyboardInterrupt\u001b[0m: "
          ]
        }
      ]
    },
    {
      "cell_type": "code",
      "source": [
        "centroids = kmeans.cluster_centers_\n",
        "print(centroids)"
      ],
      "metadata": {
        "id": "5wYdWKQ534Ii",
        "colab": {
          "base_uri": "https://localhost:8080/"
        },
        "outputId": "918bb617-eafd-4d6e-bbdd-b12b82dabab6"
      },
      "execution_count": null,
      "outputs": [
        {
          "output_type": "stream",
          "name": "stdout",
          "text": [
            "[[1.59970277e-01 2.45420653e-04 4.37832758e-01 2.56342445e-01\n",
            "  1.81661269e-01 2.57701902e-02 2.04632150e-04 8.87805917e-05\n",
            "  1.51042337e-04 9.36227386e-06 1.69268877e-04 6.17437812e-03\n",
            "  6.04822057e-01 4.02343053e-01 8.52508929e-02 7.25704005e-05]\n",
            " [5.04105094e-01 2.72167105e-04 6.15438810e-02 3.61370321e-02\n",
            "  2.54285784e-02 2.53309289e-01 6.71965307e-05 2.56845751e-05\n",
            "  4.49251577e-05 5.74947541e-05 1.15819794e-03 1.32736701e-03\n",
            "  7.19252474e-01 1.66035311e-01 1.79161221e-01 5.52720859e-07]\n",
            " [6.91174009e-02 2.30606539e-04 1.21226581e-01 4.79772863e-02\n",
            "  7.33497068e-02 2.41947578e-02 1.72617514e-04 3.36929404e-05\n",
            "  1.40042773e-04 7.92242513e-06 1.23760508e-04 2.85805113e-03\n",
            "  9.43803334e-01 1.53494462e-01 5.68407863e-02 7.58440293e-05]\n",
            " [3.33483624e-01 2.68969713e-04 1.59146477e-01 3.61931219e-02\n",
            "  1.23336164e-01 5.80731211e-02 1.67333390e-04 2.64804728e-05\n",
            "  1.47698430e-04 1.92281888e-05 4.25862512e-04 3.87053484e-03\n",
            "  3.77114118e-01 2.52735252e-01 6.78741705e-01 4.21940580e-06]\n",
            " [2.35141479e-01 2.16555293e-04 6.03857074e-02 3.44170171e-02\n",
            "  2.59739049e-02 4.00128071e-01 5.26401668e-05 2.04882397e-05\n",
            "  3.51921361e-05 6.54864556e-05 1.57199032e-03 1.12217156e-03\n",
            "  5.35089146e-01 5.98040052e-01 1.04348171e-01 2.77498236e-05]]\n"
          ]
        }
      ]
    },
    {
      "cell_type": "code",
      "source": [
        "max = len(centroids[0])\n",
        "for i in range(max):\n",
        "  print(dataframe.columns.values[i], \"\\n{:.4f}\".format(centroids[:,i].var()))"
      ],
      "metadata": {
        "colab": {
          "base_uri": "https://localhost:8080/"
        },
        "id": "KNoXKV9UVfsC",
        "outputId": "f435d52d-4b03-49a4-b7d3-109cde27c81a"
      },
      "execution_count": null,
      "outputs": [
        {
          "output_type": "stream",
          "name": "stdout",
          "text": [
            "BALANCE \n",
            "0.0224\n",
            "BALANCE_FREQUENCY \n",
            "0.0000\n",
            "PURCHASES \n",
            "0.0196\n",
            "ONEOFF_PURCHASES \n",
            "0.0076\n",
            "INSTALLMENTS_PURCHASES \n",
            "0.0036\n",
            "CASH_ADVANCE \n",
            "0.0226\n",
            "PURCHASES_FREQUENCY \n",
            "0.0000\n",
            "ONEOFF_PURCHASES_FREQUENCY \n",
            "0.0000\n",
            "PURCHASES_INSTALLMENTS_FREQUENCY \n",
            "0.0000\n",
            "CASH_ADVANCE_FREQUENCY \n",
            "0.0000\n",
            "CASH_ADVANCE_TRX \n",
            "0.0000\n",
            "PURCHASES_TRX \n",
            "0.0000\n",
            "CREDIT_LIMIT \n",
            "0.0360\n",
            "PAYMENTS \n",
            "0.0280\n",
            "MINIMUM_PAYMENTS \n",
            "0.0541\n",
            "PRC_FULL_PAYMENT \n",
            "0.0000\n"
          ]
        }
      ]
    },
    {
      "cell_type": "markdown",
      "source": [
        "\n",
        "\n",
        "*   BALANCE 0.0224\n",
        "*   PURCHASES 0.0196\n",
        "*   CASH_ADVANCE 0.0226\n",
        "*   CREDIT_LIMIT 0.0360\n",
        "*   PAYMENTS 0.0280"
      ],
      "metadata": {
        "id": "yBUgxDzQWs36"
      }
    },
    {
      "cell_type": "code",
      "source": [
        "description = dataframe.groupby(\"cluster\")[\"BALANCE\", \"PURCHASES\", \"CASH_ADVANCE\", \"CREDIT_LIMIT\", \"PAYMENTS\"]\n",
        "n_clients = description.size()\n",
        "\n",
        "description = description.mean()\n",
        "\n",
        "description['n_clients'] = n_clients\n",
        "\n",
        "print(description)"
      ],
      "metadata": {
        "colab": {
          "base_uri": "https://localhost:8080/"
        },
        "id": "j1_TzR01WmWF",
        "outputId": "952f8130-0fc2-4d3e-c05f-484350707e2c"
      },
      "execution_count": null,
      "outputs": [
        {
          "output_type": "stream",
          "name": "stdout",
          "text": [
            "             BALANCE    PURCHASES  ...     PAYMENTS  n_clients\n",
            "cluster                            ...                        \n",
            "0        1148.959844  3267.501781  ...  3035.900502       1544\n",
            "1        3034.218419   381.722765  ...   966.280942       2647\n",
            "2         444.146902   628.970831  ...   814.094493       3275\n",
            "3        1987.146873   858.326286  ...  1338.974045        412\n",
            "4        1794.024195   475.494823  ...  4709.556601       1072\n",
            "\n",
            "[5 rows x 6 columns]\n"
          ]
        },
        {
          "output_type": "stream",
          "name": "stderr",
          "text": [
            "/usr/local/lib/python3.7/dist-packages/ipykernel_launcher.py:1: FutureWarning: Indexing with multiple keys (implicitly converted to a tuple of keys) will be deprecated, use a list instead.\n",
            "  \"\"\"Entry point for launching an IPython kernel.\n"
          ]
        }
      ]
    },
    {
      "cell_type": "code",
      "source": [
        ""
      ],
      "metadata": {
        "id": "niqtAg6XXNaf"
      },
      "execution_count": null,
      "outputs": []
    }
  ]
}